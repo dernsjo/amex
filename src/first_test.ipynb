{
 "cells": [
  {
   "cell_type": "code",
   "execution_count": null,
   "metadata": {},
   "outputs": [],
   "source": [
    "import json\n",
    "\n",
    "import pandas as pd\n",
    "import matplotlib.pyplot as plt\n",
    "import seaborn as sns"
   ]
  },
  {
   "cell_type": "code",
   "execution_count": null,
   "metadata": {},
   "outputs": [],
   "source": [
    "# Set the grey theme\n",
    "plt.style.use('ggplot')"
   ]
  },
  {
   "cell_type": "code",
   "execution_count": null,
   "metadata": {},
   "outputs": [],
   "source": [
    "df = pd.read_csv('../data/raw/activity.csv')"
   ]
  },
  {
   "cell_type": "code",
   "execution_count": null,
   "metadata": {},
   "outputs": [],
   "source": [
    "df.head()"
   ]
  },
  {
   "cell_type": "code",
   "execution_count": null,
   "metadata": {},
   "outputs": [],
   "source": [
    "#Fix data types\n",
    "df['Belopp'] = df['Belopp'].str.replace(',', '.').astype(float)\n",
    "df['Datum'] = pd.to_datetime(df['Datum'])"
   ]
  },
  {
   "cell_type": "code",
   "execution_count": null,
   "metadata": {},
   "outputs": [],
   "source": [
    "df"
   ]
  },
  {
   "cell_type": "code",
   "execution_count": null,
   "metadata": {},
   "outputs": [],
   "source": [
    "# Group the data by 'Datum' and sum the 'Belopp'\n",
    "data_to_plot = df.groupby('Datum', as_index=False).agg({'Belopp': 'sum'})\n",
    "\n",
    "# Set 'Datum' as index for resampling\n",
    "data_to_plot.set_index('Datum', inplace=True)\n",
    "\n",
    "# Resample the data to ensure all days are included, filling missing days with 0\n",
    "data_to_plot = data_to_plot.resample('D').sum().fillna(0)\n",
    "\n",
    "# Reset index for plotting\n",
    "data_to_plot.reset_index(inplace=True)\n",
    "data_to_plot['Month'] = data_to_plot['Datum'].dt.month  # Extract the month\n",
    "data_to_plot['Day'] = data_to_plot['Datum'].dt.day      # Extract the day\n",
    "data_to_plot['Month_Day'] = data_to_plot['Datum'].dt.strftime('%m-%d')  # Format as 'MM-DD'\n",
    "\n",
    "# Plot the cumulative sum over time\n",
    "plt.figure(figsize=(12, 5))\n",
    "sns.barplot(data=data_to_plot,x='Month_Day', y='Belopp',color='C1')\n",
    "\n",
    "plt.xlabel('')\n",
    "plt.ylabel('Spend (kr)')\n",
    "plt.title('')\n",
    "plt.grid(True)\n",
    "plt.show()"
   ]
  },
  {
   "cell_type": "code",
   "execution_count": null,
   "metadata": {},
   "outputs": [],
   "source": [
    "# Function to preprocess data for plotting\n",
    "def preprocess_data(df):\n",
    "    # Group by 'Datum' and sum 'Belopp'\n",
    "    data_to_plot = df.groupby('Datum', as_index=False).agg({'Belopp': 'sum'})\n",
    "    # Set 'Datum' as index and resample to fill in missing days with 0\n",
    "    data_to_plot.set_index('Datum', inplace=True)\n",
    "    data_to_plot = data_to_plot.resample('D').fillna(0)\n",
    "    # Reset index for plotting\n",
    "    data_to_plot.reset_index(inplace=True)\n",
    "    return data_to_plot\n",
    "\n",
    "# Function to plot bar and line plot on the same figure\n",
    "def plot_combined(data_to_plot):\n",
    "    # Create a cumulative sum column\n",
    "    data_to_plot['Cumulative_Belopp'] = data_to_plot['Belopp'].cumsum()\n",
    "\n",
    "    # Set the figure size\n",
    "    plt.figure(figsize=(12, 5))\n",
    "    # Plot the bar plot for daily 'Belopp'\n",
    "    sns.lineplot(data=data_to_plot,x='Datum', y='Belopp', color='C0',marker='o')\n",
    "\n",
    "    # Plot the line plot for cumulative sum\n",
    "    sns.lineplot(data=data_to_plot, x='Datum', y='Cumulative_Belopp', marker='o', color='C1')\n",
    "\n",
    "    # Customize labels and grid\n",
    "    plt.xlabel('')\n",
    "    plt.ylabel('Spend (kr)')\n",
    "    plt.title('Daily Spend and Cumulative Spend Over Time')\n",
    "    plt.grid(True)\n",
    "\n",
    "    # Show the plot\n",
    "    plt.show()\n",
    "\n",
    "# Main code\n",
    "# Assuming df is the input dataframe\n",
    "data_to_plot = preprocess_data(df)\n",
    "plot_combined(data_to_plot)"
   ]
  },
  {
   "cell_type": "code",
   "execution_count": null,
   "metadata": {},
   "outputs": [],
   "source": [
    "json_data = df['Beskrivning'].to_json()\n",
    "\n",
    "# Use json.loads to parse the JSON string, then json.dumps to pretty print it\n",
    "formatted_json = json.dumps(json.loads(json_data), indent=4, ensure_ascii=False)\n",
    "\n",
    "# Print the nicely formatted JSON\n",
    "print(formatted_json)"
   ]
  },
  {
   "cell_type": "code",
   "execution_count": null,
   "metadata": {},
   "outputs": [],
   "source": []
  }
 ],
 "metadata": {
  "kernelspec": {
   "display_name": "Python 3.9.7",
   "language": "python",
   "name": "python3"
  },
  "language_info": {
   "codemirror_mode": {
    "name": "ipython",
    "version": 3
   },
   "file_extension": ".py",
   "mimetype": "text/x-python",
   "name": "python",
   "nbconvert_exporter": "python",
   "pygments_lexer": "ipython3",
   "version": "3.9.7"
  },
  "vscode": {
   "interpreter": {
    "hash": "b3b21a7a9d51457e20632a1adc6b6d9d00e39648f132efdd7207c7f4e675e569"
   }
  }
 },
 "nbformat": 4,
 "nbformat_minor": 2
}
