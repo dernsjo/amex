{
 "cells": [
  {
   "cell_type": "code",
   "execution_count": 5,
   "metadata": {},
   "outputs": [],
   "source": [
    "import pandas as pd\n",
    "import lib"
   ]
  },
  {
   "cell_type": "code",
   "execution_count": 2,
   "metadata": {},
   "outputs": [],
   "source": [
    "df = df = pd.read_csv('../data/raw/activity.csv')"
   ]
  },
  {
   "cell_type": "code",
   "execution_count": 3,
   "metadata": {},
   "outputs": [
    {
     "data": {
      "text/html": [
       "<div>\n",
       "<style scoped>\n",
       "    .dataframe tbody tr th:only-of-type {\n",
       "        vertical-align: middle;\n",
       "    }\n",
       "\n",
       "    .dataframe tbody tr th {\n",
       "        vertical-align: top;\n",
       "    }\n",
       "\n",
       "    .dataframe thead th {\n",
       "        text-align: right;\n",
       "    }\n",
       "</style>\n",
       "<table border=\"1\" class=\"dataframe\">\n",
       "  <thead>\n",
       "    <tr style=\"text-align: right;\">\n",
       "      <th></th>\n",
       "      <th>Datum</th>\n",
       "      <th>Beskrivning</th>\n",
       "      <th>Belopp</th>\n",
       "    </tr>\n",
       "  </thead>\n",
       "  <tbody>\n",
       "    <tr>\n",
       "      <th>0</th>\n",
       "      <td>10/02/2024</td>\n",
       "      <td>PERIODENS DEL AV ÅRSAVGIFT FÖR KONTOT</td>\n",
       "      <td>135,00</td>\n",
       "    </tr>\n",
       "    <tr>\n",
       "      <th>1</th>\n",
       "      <td>10/01/2024</td>\n",
       "      <td>HEMKOP SABIS STOCKHO 09 STOCKHOLM</td>\n",
       "      <td>151,85</td>\n",
       "    </tr>\n",
       "    <tr>\n",
       "      <th>2</th>\n",
       "      <td>09/30/2024</td>\n",
       "      <td>BRA MAT DANDERY         DANDERYD</td>\n",
       "      <td>145,00</td>\n",
       "    </tr>\n",
       "    <tr>\n",
       "      <th>3</th>\n",
       "      <td>09/30/2024</td>\n",
       "      <td>COOP ERIK DAHLBERGSGATA STOCKHOLM</td>\n",
       "      <td>25,95</td>\n",
       "    </tr>\n",
       "    <tr>\n",
       "      <th>4</th>\n",
       "      <td>09/30/2024</td>\n",
       "      <td>HEMKOP SABIS STOCKHO 09 STOCKHOLM</td>\n",
       "      <td>333,05</td>\n",
       "    </tr>\n",
       "  </tbody>\n",
       "</table>\n",
       "</div>"
      ],
      "text/plain": [
       "        Datum                            Beskrivning  Belopp\n",
       "0  10/02/2024  PERIODENS DEL AV ÅRSAVGIFT FÖR KONTOT  135,00\n",
       "1  10/01/2024      HEMKOP SABIS STOCKHO 09 STOCKHOLM  151,85\n",
       "2  09/30/2024       BRA MAT DANDERY         DANDERYD  145,00\n",
       "3  09/30/2024      COOP ERIK DAHLBERGSGATA STOCKHOLM   25,95\n",
       "4  09/30/2024      HEMKOP SABIS STOCKHO 09 STOCKHOLM  333,05"
      ]
     },
     "execution_count": 3,
     "metadata": {},
     "output_type": "execute_result"
    }
   ],
   "source": [
    "df.head()"
   ]
  },
  {
   "cell_type": "code",
   "execution_count": 6,
   "metadata": {},
   "outputs": [
    {
     "data": {
      "text/html": [
       "<div>\n",
       "<style scoped>\n",
       "    .dataframe tbody tr th:only-of-type {\n",
       "        vertical-align: middle;\n",
       "    }\n",
       "\n",
       "    .dataframe tbody tr th {\n",
       "        vertical-align: top;\n",
       "    }\n",
       "\n",
       "    .dataframe thead th {\n",
       "        text-align: right;\n",
       "    }\n",
       "</style>\n",
       "<table border=\"1\" class=\"dataframe\">\n",
       "  <thead>\n",
       "    <tr style=\"text-align: right;\">\n",
       "      <th></th>\n",
       "      <th>Datum</th>\n",
       "      <th>Beskrivning</th>\n",
       "      <th>Belopp</th>\n",
       "    </tr>\n",
       "  </thead>\n",
       "  <tbody>\n",
       "    <tr>\n",
       "      <th>0</th>\n",
       "      <td>2024-10-02</td>\n",
       "      <td>PERIODENS DEL AV ÅRSAVGIFT FÖR KONTOT</td>\n",
       "      <td>135.00</td>\n",
       "    </tr>\n",
       "    <tr>\n",
       "      <th>1</th>\n",
       "      <td>2024-10-01</td>\n",
       "      <td>HEMKOP SABIS STOCKHO 09 STOCKHOLM</td>\n",
       "      <td>151.85</td>\n",
       "    </tr>\n",
       "    <tr>\n",
       "      <th>2</th>\n",
       "      <td>2024-09-30</td>\n",
       "      <td>BRA MAT DANDERY         DANDERYD</td>\n",
       "      <td>145.00</td>\n",
       "    </tr>\n",
       "    <tr>\n",
       "      <th>3</th>\n",
       "      <td>2024-09-30</td>\n",
       "      <td>COOP ERIK DAHLBERGSGATA STOCKHOLM</td>\n",
       "      <td>25.95</td>\n",
       "    </tr>\n",
       "    <tr>\n",
       "      <th>4</th>\n",
       "      <td>2024-09-30</td>\n",
       "      <td>HEMKOP SABIS STOCKHO 09 STOCKHOLM</td>\n",
       "      <td>333.05</td>\n",
       "    </tr>\n",
       "  </tbody>\n",
       "</table>\n",
       "</div>"
      ],
      "text/plain": [
       "       Datum                            Beskrivning  Belopp\n",
       "0 2024-10-02  PERIODENS DEL AV ÅRSAVGIFT FÖR KONTOT  135.00\n",
       "1 2024-10-01      HEMKOP SABIS STOCKHO 09 STOCKHOLM  151.85\n",
       "2 2024-09-30       BRA MAT DANDERY         DANDERYD  145.00\n",
       "3 2024-09-30      COOP ERIK DAHLBERGSGATA STOCKHOLM   25.95\n",
       "4 2024-09-30      HEMKOP SABIS STOCKHO 09 STOCKHOLM  333.05"
      ]
     },
     "execution_count": 6,
     "metadata": {},
     "output_type": "execute_result"
    }
   ],
   "source": [
    "df = lib.format_data(df)\n",
    "df.head()"
   ]
  },
  {
   "cell_type": "code",
   "execution_count": null,
   "metadata": {},
   "outputs": [],
   "source": []
  }
 ],
 "metadata": {
  "kernelspec": {
   "display_name": "env",
   "language": "python",
   "name": "python3"
  },
  "language_info": {
   "codemirror_mode": {
    "name": "ipython",
    "version": 3
   },
   "file_extension": ".py",
   "mimetype": "text/x-python",
   "name": "python",
   "nbconvert_exporter": "python",
   "pygments_lexer": "ipython3",
   "version": "3.11.10"
  }
 },
 "nbformat": 4,
 "nbformat_minor": 2
}
